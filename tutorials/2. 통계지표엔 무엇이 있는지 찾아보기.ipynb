{
 "cells": [
  {
   "cell_type": "code",
   "execution_count": 23,
   "id": "f9ba2365-bdd7-4370-8107-bf889c4aa86f",
   "metadata": {},
   "outputs": [],
   "source": [
    "from open_ecos_reader import ECOSReader as ECOSReader\n",
    "import pandas as pd\n",
    "import numpy as np\n"
   ]
  },
  {
   "cell_type": "code",
   "execution_count": 24,
   "id": "deff5a91-663e-486c-a3ed-2be4a4f0d79a",
   "metadata": {
    "tags": []
   },
   "outputs": [],
   "source": [
    "import matplotlib.font_manager as fm\n",
    "\n",
    "font_list = fm.findSystemFonts(fontpaths = None, fontext = 'ttf')"
   ]
  },
  {
   "cell_type": "code",
   "execution_count": null,
   "id": "894464d8-6ff1-4689-96e7-ed2c929284c3",
   "metadata": {},
   "outputs": [],
   "source": []
  },
  {
   "cell_type": "code",
   "execution_count": 25,
   "id": "4e96d15f-3a7a-4381-b15c-ad48e8f2bae3",
   "metadata": {},
   "outputs": [],
   "source": [
    "import matplotlib\n",
    "import matplotlib.font_manager as fm\n",
    "from matplotlib import rcParams\n",
    "\n",
    "\n",
    "# 한글폰트 설치\n",
    "rcParams['figure.figsize'] = 25, 16\n"
   ]
  },
  {
   "cell_type": "code",
   "execution_count": 26,
   "id": "cc69c26d-0b81-4ba2-b321-e3f6cc3c7e82",
   "metadata": {},
   "outputs": [],
   "source": [
    "# plt.rcParams['font.family'] = 'KakaoBold'\n"
   ]
  },
  {
   "cell_type": "code",
   "execution_count": null,
   "id": "72928d8f-9b77-4337-9cac-179482919031",
   "metadata": {},
   "outputs": [],
   "source": []
  },
  {
   "cell_type": "code",
   "execution_count": 27,
   "id": "fd803f25-5eaa-4836-aa9e-9b16ea5fad39",
   "metadata": {},
   "outputs": [],
   "source": [
    "api_key = 'sample'"
   ]
  },
  {
   "cell_type": "code",
   "execution_count": 28,
   "id": "5bcc0fbb-b00c-4a8a-9484-8aac4392b2ff",
   "metadata": {},
   "outputs": [],
   "source": [
    "er = ECOSReader(api_key)"
   ]
  },
  {
   "cell_type": "code",
   "execution_count": null,
   "id": "251724f6-4f4a-4dd0-a646-4397542ffc5f",
   "metadata": {},
   "outputs": [],
   "source": []
  },
  {
   "cell_type": "code",
   "execution_count": 29,
   "id": "82f74654-a965-4d0f-9fac-b0055b8ecc7c",
   "metadata": {},
   "outputs": [
    {
     "data": {
      "text/plain": [
       "['_api_call',\n",
       " 'apikey',\n",
       " 'key_statistic_list',\n",
       " 'language',\n",
       " 'satatistic_list',\n",
       " 'statistic_item_list',\n",
       " 'statistic_meta',\n",
       " 'statistic_search',\n",
       " 'statistic_word',\n",
       " 'warning']"
      ]
     },
     "execution_count": 29,
     "metadata": {},
     "output_type": "execute_result"
    }
   ],
   "source": [
    "[i for i in dir(er) if '__' not in i]"
   ]
  },
  {
   "cell_type": "code",
   "execution_count": 30,
   "id": "44cb7ca3-2406-41eb-82cd-fc25aab62d25",
   "metadata": {},
   "outputs": [],
   "source": [
    "key_statistic_list = er.key_statistic_list()"
   ]
  },
  {
   "cell_type": "markdown",
   "id": "078462fe-6e8f-47a2-8eef-0c9a3842294b",
   "metadata": {},
   "source": [
    "## 100대 금리의 클래스 조회하기"
   ]
  },
  {
   "cell_type": "code",
   "execution_count": 31,
   "id": "93848ee6-bba4-445e-ad9a-ce55acf2f959",
   "metadata": {},
   "outputs": [
    {
     "data": {
      "text/plain": [
       "0           시장금리\n",
       "8          여수신금리\n",
       "10        예금/대출금\n",
       "14           통화량\n",
       "18            환율\n",
       "22            주식\n",
       "26            채권\n",
       "28           성장률\n",
       "33            소득\n",
       "35      GDP대비 비율\n",
       "38            생산\n",
       "45            소비\n",
       "48            투자\n",
       "55        경기순환지표\n",
       "57          심리지표\n",
       "60        기업경영지표\n",
       "63            가계\n",
       "65        소득분배지표\n",
       "67            고용\n",
       "71            노동\n",
       "74            인구\n",
       "77          국제수지\n",
       "82         통관수출입\n",
       "86       대외채권/채무\n",
       "89    소비자/생산자 물가\n",
       "93        수출입 물가\n",
       "95        부동산 가격\n",
       "98           원자재\n",
       "Name: CLASS_NAME, dtype: object"
      ]
     },
     "execution_count": 31,
     "metadata": {},
     "output_type": "execute_result"
    }
   ],
   "source": [
    "key_statistic_list['CLASS_NAME'].drop_duplicates()"
   ]
  },
  {
   "cell_type": "code",
   "execution_count": 32,
   "id": "d0f32256-7044-46e9-bb90-ead2b483d759",
   "metadata": {},
   "outputs": [
    {
     "data": {
      "text/html": [
       "<div>\n",
       "<style scoped>\n",
       "    .dataframe tbody tr th:only-of-type {\n",
       "        vertical-align: middle;\n",
       "    }\n",
       "\n",
       "    .dataframe tbody tr th {\n",
       "        vertical-align: top;\n",
       "    }\n",
       "\n",
       "    .dataframe thead th {\n",
       "        text-align: right;\n",
       "    }\n",
       "</style>\n",
       "<table border=\"1\" class=\"dataframe\">\n",
       "  <thead>\n",
       "    <tr style=\"text-align: right;\">\n",
       "      <th></th>\n",
       "      <th>CLASS_NAME</th>\n",
       "      <th>KEYSTAT_NAME</th>\n",
       "      <th>DATA_VALUE</th>\n",
       "      <th>CYCLE</th>\n",
       "      <th>UNIT_NAME</th>\n",
       "    </tr>\n",
       "  </thead>\n",
       "  <tbody>\n",
       "    <tr>\n",
       "      <th>0</th>\n",
       "      <td>시장금리</td>\n",
       "      <td>한국은행 기준금리</td>\n",
       "      <td>2.25</td>\n",
       "      <td>20220822</td>\n",
       "      <td>%</td>\n",
       "    </tr>\n",
       "    <tr>\n",
       "      <th>1</th>\n",
       "      <td>시장금리</td>\n",
       "      <td>콜금리(익일물)</td>\n",
       "      <td>2.214</td>\n",
       "      <td>20220823</td>\n",
       "      <td>%</td>\n",
       "    </tr>\n",
       "    <tr>\n",
       "      <th>2</th>\n",
       "      <td>시장금리</td>\n",
       "      <td>KORIBOR(3개월)</td>\n",
       "      <td>2.71</td>\n",
       "      <td>20220824</td>\n",
       "      <td>%</td>\n",
       "    </tr>\n",
       "    <tr>\n",
       "      <th>3</th>\n",
       "      <td>시장금리</td>\n",
       "      <td>CD수익률(91일)</td>\n",
       "      <td>2.76</td>\n",
       "      <td>20220824</td>\n",
       "      <td>%</td>\n",
       "    </tr>\n",
       "    <tr>\n",
       "      <th>4</th>\n",
       "      <td>시장금리</td>\n",
       "      <td>통안증권수익률(364일)</td>\n",
       "      <td>3.038</td>\n",
       "      <td>20220824</td>\n",
       "      <td>%</td>\n",
       "    </tr>\n",
       "    <tr>\n",
       "      <th>5</th>\n",
       "      <td>시장금리</td>\n",
       "      <td>국고채수익률(3년)</td>\n",
       "      <td>3.311</td>\n",
       "      <td>20220824</td>\n",
       "      <td>%</td>\n",
       "    </tr>\n",
       "    <tr>\n",
       "      <th>6</th>\n",
       "      <td>시장금리</td>\n",
       "      <td>국고채수익률(5년)</td>\n",
       "      <td>3.39</td>\n",
       "      <td>20220824</td>\n",
       "      <td>%</td>\n",
       "    </tr>\n",
       "    <tr>\n",
       "      <th>7</th>\n",
       "      <td>시장금리</td>\n",
       "      <td>회사채수익률(3년,AA-)</td>\n",
       "      <td>4.298</td>\n",
       "      <td>20220824</td>\n",
       "      <td>%</td>\n",
       "    </tr>\n",
       "  </tbody>\n",
       "</table>\n",
       "</div>"
      ],
      "text/plain": [
       "  CLASS_NAME    KEYSTAT_NAME DATA_VALUE     CYCLE UNIT_NAME\n",
       "0       시장금리       한국은행 기준금리       2.25  20220822        % \n",
       "1       시장금리        콜금리(익일물)      2.214  20220823        % \n",
       "2       시장금리    KORIBOR(3개월)       2.71  20220824        % \n",
       "3       시장금리      CD수익률(91일)       2.76  20220824        % \n",
       "4       시장금리   통안증권수익률(364일)      3.038  20220824        % \n",
       "5       시장금리      국고채수익률(3년)      3.311  20220824        % \n",
       "6       시장금리      국고채수익률(5년)       3.39  20220824        % \n",
       "7       시장금리  회사채수익률(3년,AA-)      4.298  20220824        % "
      ]
     },
     "execution_count": 32,
     "metadata": {},
     "output_type": "execute_result"
    }
   ],
   "source": [
    "key_statistic_list[key_statistic_list['CLASS_NAME'] == '시장금리']"
   ]
  },
  {
   "cell_type": "code",
   "execution_count": null,
   "id": "75bff290-2734-4597-a9cf-6d843ab778a4",
   "metadata": {},
   "outputs": [],
   "source": []
  },
  {
   "cell_type": "code",
   "execution_count": 33,
   "id": "801bbbf6-01df-41ff-96f1-21170a9326c5",
   "metadata": {},
   "outputs": [],
   "source": [
    "satatistic_list = er.satatistic_list()"
   ]
  },
  {
   "cell_type": "code",
   "execution_count": 34,
   "id": "2fdbfc7d-9f5c-4253-bcd9-d8137750f2ee",
   "metadata": {},
   "outputs": [
    {
     "data": {
      "text/html": [
       "<div>\n",
       "<style scoped>\n",
       "    .dataframe tbody tr th:only-of-type {\n",
       "        vertical-align: middle;\n",
       "    }\n",
       "\n",
       "    .dataframe tbody tr th {\n",
       "        vertical-align: top;\n",
       "    }\n",
       "\n",
       "    .dataframe thead th {\n",
       "        text-align: right;\n",
       "    }\n",
       "</style>\n",
       "<table border=\"1\" class=\"dataframe\">\n",
       "  <thead>\n",
       "    <tr style=\"text-align: right;\">\n",
       "      <th></th>\n",
       "      <th>P_STAT_CODE</th>\n",
       "      <th>STAT_CODE</th>\n",
       "      <th>STAT_NAME</th>\n",
       "      <th>CYCLE</th>\n",
       "      <th>SRCH_YN</th>\n",
       "      <th>ORG_NAME</th>\n",
       "    </tr>\n",
       "  </thead>\n",
       "  <tbody>\n",
       "    <tr>\n",
       "      <th>100</th>\n",
       "      <td>0000000048</td>\n",
       "      <td>722Y001</td>\n",
       "      <td>1.3.1. 한국은행 기준금리 및 여수신금리</td>\n",
       "      <td>D</td>\n",
       "      <td>Y</td>\n",
       "      <td>한국은행</td>\n",
       "    </tr>\n",
       "  </tbody>\n",
       "</table>\n",
       "</div>"
      ],
      "text/plain": [
       "    P_STAT_CODE STAT_CODE                 STAT_NAME CYCLE SRCH_YN ORG_NAME\n",
       "100  0000000048   722Y001  1.3.1. 한국은행 기준금리 및 여수신금리     D       Y     한국은행"
      ]
     },
     "execution_count": 34,
     "metadata": {},
     "output_type": "execute_result"
    }
   ],
   "source": [
    "satatistic_list[satatistic_list['STAT_NAME'].apply(lambda x: '한국은행 기준금리' in x)]"
   ]
  },
  {
   "cell_type": "code",
   "execution_count": null,
   "id": "94cad881-618d-4630-913b-09b25069b2a7",
   "metadata": {},
   "outputs": [],
   "source": []
  },
  {
   "cell_type": "code",
   "execution_count": 35,
   "id": "ff50600b-6947-4489-b71e-c1ec6cf5525b",
   "metadata": {},
   "outputs": [],
   "source": [
    "interest_df = er.statistic_search('722Y001', 'D', '20220101', '20220824')"
   ]
  },
  {
   "cell_type": "code",
   "execution_count": 36,
   "id": "ffd9c1c9-57bd-41c5-96c7-fb8f66a52996",
   "metadata": {},
   "outputs": [
    {
     "data": {
      "text/html": [
       "<div>\n",
       "<style scoped>\n",
       "    .dataframe tbody tr th:only-of-type {\n",
       "        vertical-align: middle;\n",
       "    }\n",
       "\n",
       "    .dataframe tbody tr th {\n",
       "        vertical-align: top;\n",
       "    }\n",
       "\n",
       "    .dataframe thead th {\n",
       "        text-align: right;\n",
       "    }\n",
       "</style>\n",
       "<table border=\"1\" class=\"dataframe\">\n",
       "  <thead>\n",
       "    <tr style=\"text-align: right;\">\n",
       "      <th></th>\n",
       "      <th>STAT_CODE</th>\n",
       "      <th>STAT_NAME</th>\n",
       "      <th>ITEM_CODE1</th>\n",
       "      <th>ITEM_NAME1</th>\n",
       "      <th>ITEM_CODE2</th>\n",
       "      <th>ITEM_NAME2</th>\n",
       "      <th>ITEM_CODE3</th>\n",
       "      <th>ITEM_NAME3</th>\n",
       "      <th>ITEM_CODE4</th>\n",
       "      <th>ITEM_NAME4</th>\n",
       "      <th>UNIT_NAME</th>\n",
       "      <th>TIME</th>\n",
       "      <th>DATA_VALUE</th>\n",
       "    </tr>\n",
       "  </thead>\n",
       "  <tbody>\n",
       "    <tr>\n",
       "      <th>0</th>\n",
       "      <td>722Y001</td>\n",
       "      <td>1.3.1. 한국은행 기준금리 및 여수신금리</td>\n",
       "      <td>0101000</td>\n",
       "      <td>한국은행 기준금리</td>\n",
       "      <td>None</td>\n",
       "      <td>None</td>\n",
       "      <td>None</td>\n",
       "      <td>None</td>\n",
       "      <td>None</td>\n",
       "      <td>None</td>\n",
       "      <td>연%</td>\n",
       "      <td>20220101</td>\n",
       "      <td>1</td>\n",
       "    </tr>\n",
       "    <tr>\n",
       "      <th>1</th>\n",
       "      <td>722Y001</td>\n",
       "      <td>1.3.1. 한국은행 기준금리 및 여수신금리</td>\n",
       "      <td>0101000</td>\n",
       "      <td>한국은행 기준금리</td>\n",
       "      <td>None</td>\n",
       "      <td>None</td>\n",
       "      <td>None</td>\n",
       "      <td>None</td>\n",
       "      <td>None</td>\n",
       "      <td>None</td>\n",
       "      <td>연%</td>\n",
       "      <td>20220102</td>\n",
       "      <td>1</td>\n",
       "    </tr>\n",
       "    <tr>\n",
       "      <th>2</th>\n",
       "      <td>722Y001</td>\n",
       "      <td>1.3.1. 한국은행 기준금리 및 여수신금리</td>\n",
       "      <td>0101000</td>\n",
       "      <td>한국은행 기준금리</td>\n",
       "      <td>None</td>\n",
       "      <td>None</td>\n",
       "      <td>None</td>\n",
       "      <td>None</td>\n",
       "      <td>None</td>\n",
       "      <td>None</td>\n",
       "      <td>연%</td>\n",
       "      <td>20220103</td>\n",
       "      <td>1</td>\n",
       "    </tr>\n",
       "    <tr>\n",
       "      <th>3</th>\n",
       "      <td>722Y001</td>\n",
       "      <td>1.3.1. 한국은행 기준금리 및 여수신금리</td>\n",
       "      <td>0101000</td>\n",
       "      <td>한국은행 기준금리</td>\n",
       "      <td>None</td>\n",
       "      <td>None</td>\n",
       "      <td>None</td>\n",
       "      <td>None</td>\n",
       "      <td>None</td>\n",
       "      <td>None</td>\n",
       "      <td>연%</td>\n",
       "      <td>20220104</td>\n",
       "      <td>1</td>\n",
       "    </tr>\n",
       "    <tr>\n",
       "      <th>4</th>\n",
       "      <td>722Y001</td>\n",
       "      <td>1.3.1. 한국은행 기준금리 및 여수신금리</td>\n",
       "      <td>0101000</td>\n",
       "      <td>한국은행 기준금리</td>\n",
       "      <td>None</td>\n",
       "      <td>None</td>\n",
       "      <td>None</td>\n",
       "      <td>None</td>\n",
       "      <td>None</td>\n",
       "      <td>None</td>\n",
       "      <td>연%</td>\n",
       "      <td>20220105</td>\n",
       "      <td>1</td>\n",
       "    </tr>\n",
       "  </tbody>\n",
       "</table>\n",
       "</div>"
      ],
      "text/plain": [
       "  STAT_CODE                 STAT_NAME ITEM_CODE1 ITEM_NAME1 ITEM_CODE2  \\\n",
       "0   722Y001  1.3.1. 한국은행 기준금리 및 여수신금리    0101000  한국은행 기준금리       None   \n",
       "1   722Y001  1.3.1. 한국은행 기준금리 및 여수신금리    0101000  한국은행 기준금리       None   \n",
       "2   722Y001  1.3.1. 한국은행 기준금리 및 여수신금리    0101000  한국은행 기준금리       None   \n",
       "3   722Y001  1.3.1. 한국은행 기준금리 및 여수신금리    0101000  한국은행 기준금리       None   \n",
       "4   722Y001  1.3.1. 한국은행 기준금리 및 여수신금리    0101000  한국은행 기준금리       None   \n",
       "\n",
       "  ITEM_NAME2 ITEM_CODE3 ITEM_NAME3 ITEM_CODE4 ITEM_NAME4 UNIT_NAME      TIME  \\\n",
       "0       None       None       None       None       None        연%  20220101   \n",
       "1       None       None       None       None       None        연%  20220102   \n",
       "2       None       None       None       None       None        연%  20220103   \n",
       "3       None       None       None       None       None        연%  20220104   \n",
       "4       None       None       None       None       None        연%  20220105   \n",
       "\n",
       "  DATA_VALUE  \n",
       "0          1  \n",
       "1          1  \n",
       "2          1  \n",
       "3          1  \n",
       "4          1  "
      ]
     },
     "execution_count": 36,
     "metadata": {},
     "output_type": "execute_result"
    }
   ],
   "source": [
    "interest_df.head()"
   ]
  },
  {
   "cell_type": "code",
   "execution_count": 37,
   "id": "e9e0c8b0-5b94-42a9-9cd6-a46e50cd9b15",
   "metadata": {},
   "outputs": [],
   "source": [
    "interest_df['date_id'] = pd.to_datetime(interest_df['TIME'])\n",
    "interest_df['DATA_VALUE'] = interest_df['DATA_VALUE'].astype(float)"
   ]
  },
  {
   "cell_type": "code",
   "execution_count": 38,
   "id": "b2eaf633-db36-4711-8b1c-b8c99b83f7fe",
   "metadata": {},
   "outputs": [
    {
     "data": {
      "text/plain": [
       "<AxesSubplot:xlabel='date_id'>"
      ]
     },
     "execution_count": 38,
     "metadata": {},
     "output_type": "execute_result"
    },
    {
     "data": {
      "image/png": "[encoded data removed]",
      "text/plain": [
       "<Figure size 1800x1152 with 1 Axes>"
      ]
     },
     "metadata": {
      "needs_background": "light"
     },
     "output_type": "display_data"
    }
   ],
   "source": [
    "interest_df.set_index('date_id')['DATA_VALUE'].plot()"
   ]
  },
  {
   "cell_type": "code",
   "execution_count": null,
   "id": "10ce869f-2b21-4aa5-9881-ef50c84d8693",
   "metadata": {},
   "outputs": [],
   "source": []
  },
  {
   "cell_type": "code",
   "execution_count": 39,
   "id": "efb9e168-e2fe-416d-bd4a-b35f93d2089a",
   "metadata": {},
   "outputs": [
    {
     "data": {
      "text/html": [
       "<div>\n",
       "<style scoped>\n",
       "    .dataframe tbody tr th:only-of-type {\n",
       "        vertical-align: middle;\n",
       "    }\n",
       "\n",
       "    .dataframe tbody tr th {\n",
       "        vertical-align: top;\n",
       "    }\n",
       "\n",
       "    .dataframe thead th {\n",
       "        text-align: right;\n",
       "    }\n",
       "</style>\n",
       "<table border=\"1\" class=\"dataframe\">\n",
       "  <thead>\n",
       "    <tr style=\"text-align: right;\">\n",
       "      <th></th>\n",
       "      <th>CLASS_NAME</th>\n",
       "      <th>KEYSTAT_NAME</th>\n",
       "      <th>DATA_VALUE</th>\n",
       "      <th>CYCLE</th>\n",
       "      <th>UNIT_NAME</th>\n",
       "    </tr>\n",
       "  </thead>\n",
       "  <tbody>\n",
       "    <tr>\n",
       "      <th>8</th>\n",
       "      <td>여수신금리</td>\n",
       "      <td>예금은행 수신금리</td>\n",
       "      <td>2.41</td>\n",
       "      <td>202206</td>\n",
       "      <td>%</td>\n",
       "    </tr>\n",
       "    <tr>\n",
       "      <th>9</th>\n",
       "      <td>여수신금리</td>\n",
       "      <td>예금은행 대출금리</td>\n",
       "      <td>3.9</td>\n",
       "      <td>202206</td>\n",
       "      <td>%</td>\n",
       "    </tr>\n",
       "  </tbody>\n",
       "</table>\n",
       "</div>"
      ],
      "text/plain": [
       "  CLASS_NAME KEYSTAT_NAME DATA_VALUE   CYCLE UNIT_NAME\n",
       "8      여수신금리    예금은행 수신금리       2.41  202206        % \n",
       "9      여수신금리    예금은행 대출금리        3.9  202206        % "
      ]
     },
     "execution_count": 39,
     "metadata": {},
     "output_type": "execute_result"
    }
   ],
   "source": [
    "key_statistic_list[key_statistic_list['CLASS_NAME'] == '여수신금리']"
   ]
  },
  {
   "cell_type": "code",
   "execution_count": 40,
   "id": "af164a7f-9275-40af-ac65-2f2c85f19b45",
   "metadata": {},
   "outputs": [
    {
     "data": {
      "text/html": [
       "<div>\n",
       "<style scoped>\n",
       "    .dataframe tbody tr th:only-of-type {\n",
       "        vertical-align: middle;\n",
       "    }\n",
       "\n",
       "    .dataframe tbody tr th {\n",
       "        vertical-align: top;\n",
       "    }\n",
       "\n",
       "    .dataframe thead th {\n",
       "        text-align: right;\n",
       "    }\n",
       "</style>\n",
       "<table border=\"1\" class=\"dataframe\">\n",
       "  <thead>\n",
       "    <tr style=\"text-align: right;\">\n",
       "      <th></th>\n",
       "      <th>P_STAT_CODE</th>\n",
       "      <th>STAT_CODE</th>\n",
       "      <th>STAT_NAME</th>\n",
       "      <th>CYCLE</th>\n",
       "      <th>SRCH_YN</th>\n",
       "      <th>ORG_NAME</th>\n",
       "    </tr>\n",
       "  </thead>\n",
       "  <tbody>\n",
       "    <tr>\n",
       "      <th>109</th>\n",
       "      <td>0000000055</td>\n",
       "      <td>121Y006</td>\n",
       "      <td>1.3.3.2.1. 예금은행 대출금리(신규취급액 기준)</td>\n",
       "      <td>M</td>\n",
       "      <td>Y</td>\n",
       "      <td>한국은행</td>\n",
       "    </tr>\n",
       "    <tr>\n",
       "      <th>110</th>\n",
       "      <td>0000000055</td>\n",
       "      <td>121Y015</td>\n",
       "      <td>1.3.3.2.2. 예금은행 대출금리(잔액 기준)</td>\n",
       "      <td>M</td>\n",
       "      <td>Y</td>\n",
       "      <td>한국은행</td>\n",
       "    </tr>\n",
       "  </tbody>\n",
       "</table>\n",
       "</div>"
      ],
      "text/plain": [
       "    P_STAT_CODE STAT_CODE                       STAT_NAME CYCLE SRCH_YN  \\\n",
       "109  0000000055   121Y006  1.3.3.2.1. 예금은행 대출금리(신규취급액 기준)     M       Y   \n",
       "110  0000000055   121Y015     1.3.3.2.2. 예금은행 대출금리(잔액 기준)     M       Y   \n",
       "\n",
       "    ORG_NAME  \n",
       "109     한국은행  \n",
       "110     한국은행  "
      ]
     },
     "execution_count": 40,
     "metadata": {},
     "output_type": "execute_result"
    }
   ],
   "source": [
    "satatistic_list[satatistic_list['STAT_NAME'].apply(lambda x: '예금은행 대출금리' in x)]"
   ]
  },
  {
   "cell_type": "code",
   "execution_count": 41,
   "id": "aebfa0c7-0ae2-4a06-bd93-890f79c942f7",
   "metadata": {},
   "outputs": [],
   "source": [
    "interest_df = er.statistic_search('121Y006', 'M', '202201', '202208')"
   ]
  },
  {
   "cell_type": "code",
   "execution_count": 42,
   "id": "fdf5337f-b0bf-4af2-bebc-6fb469c4c3cd",
   "metadata": {},
   "outputs": [
    {
     "data": {
      "text/html": [
       "<div>\n",
       "<style scoped>\n",
       "    .dataframe tbody tr th:only-of-type {\n",
       "        vertical-align: middle;\n",
       "    }\n",
       "\n",
       "    .dataframe tbody tr th {\n",
       "        vertical-align: top;\n",
       "    }\n",
       "\n",
       "    .dataframe thead th {\n",
       "        text-align: right;\n",
       "    }\n",
       "</style>\n",
       "<table border=\"1\" class=\"dataframe\">\n",
       "  <thead>\n",
       "    <tr style=\"text-align: right;\">\n",
       "      <th></th>\n",
       "      <th>STAT_CODE</th>\n",
       "      <th>STAT_NAME</th>\n",
       "      <th>ITEM_CODE1</th>\n",
       "      <th>ITEM_NAME1</th>\n",
       "      <th>ITEM_CODE2</th>\n",
       "      <th>ITEM_NAME2</th>\n",
       "      <th>ITEM_CODE3</th>\n",
       "      <th>ITEM_NAME3</th>\n",
       "      <th>ITEM_CODE4</th>\n",
       "      <th>ITEM_NAME4</th>\n",
       "      <th>UNIT_NAME</th>\n",
       "      <th>TIME</th>\n",
       "      <th>DATA_VALUE</th>\n",
       "    </tr>\n",
       "  </thead>\n",
       "  <tbody>\n",
       "    <tr>\n",
       "      <th>0</th>\n",
       "      <td>121Y006</td>\n",
       "      <td>1.3.3.2.1. 예금은행 대출금리(신규취급액 기준)</td>\n",
       "      <td>BECBLA01</td>\n",
       "      <td>대출평균 1)</td>\n",
       "      <td>None</td>\n",
       "      <td>None</td>\n",
       "      <td>None</td>\n",
       "      <td>None</td>\n",
       "      <td>None</td>\n",
       "      <td>None</td>\n",
       "      <td>연%</td>\n",
       "      <td>202201</td>\n",
       "      <td>3.45</td>\n",
       "    </tr>\n",
       "    <tr>\n",
       "      <th>1</th>\n",
       "      <td>121Y006</td>\n",
       "      <td>1.3.3.2.1. 예금은행 대출금리(신규취급액 기준)</td>\n",
       "      <td>BECBLA04</td>\n",
       "      <td>공공및기타부문대출</td>\n",
       "      <td>None</td>\n",
       "      <td>None</td>\n",
       "      <td>None</td>\n",
       "      <td>None</td>\n",
       "      <td>None</td>\n",
       "      <td>None</td>\n",
       "      <td>연리%</td>\n",
       "      <td>202201</td>\n",
       "      <td>2.6</td>\n",
       "    </tr>\n",
       "    <tr>\n",
       "      <th>2</th>\n",
       "      <td>121Y006</td>\n",
       "      <td>1.3.3.2.1. 예금은행 대출금리(신규취급액 기준)</td>\n",
       "      <td>BECBLB01</td>\n",
       "      <td>총대출  1)</td>\n",
       "      <td>None</td>\n",
       "      <td>None</td>\n",
       "      <td>None</td>\n",
       "      <td>None</td>\n",
       "      <td>None</td>\n",
       "      <td>None</td>\n",
       "      <td>연리%</td>\n",
       "      <td>202201</td>\n",
       "      <td>3.12</td>\n",
       "    </tr>\n",
       "    <tr>\n",
       "      <th>3</th>\n",
       "      <td>121Y006</td>\n",
       "      <td>1.3.3.2.1. 예금은행 대출금리(신규취급액 기준)</td>\n",
       "      <td>BECBLA07</td>\n",
       "      <td>기업일반자금대출</td>\n",
       "      <td>None</td>\n",
       "      <td>None</td>\n",
       "      <td>None</td>\n",
       "      <td>None</td>\n",
       "      <td>None</td>\n",
       "      <td>None</td>\n",
       "      <td>연리%</td>\n",
       "      <td>202201</td>\n",
       "      <td>3.3</td>\n",
       "    </tr>\n",
       "    <tr>\n",
       "      <th>4</th>\n",
       "      <td>121Y006</td>\n",
       "      <td>1.3.3.2.1. 예금은행 대출금리(신규취급액 기준)</td>\n",
       "      <td>BECBLA05</td>\n",
       "      <td>상업어음할인</td>\n",
       "      <td>None</td>\n",
       "      <td>None</td>\n",
       "      <td>None</td>\n",
       "      <td>None</td>\n",
       "      <td>None</td>\n",
       "      <td>None</td>\n",
       "      <td>연리%</td>\n",
       "      <td>202201</td>\n",
       "      <td>4.42</td>\n",
       "    </tr>\n",
       "  </tbody>\n",
       "</table>\n",
       "</div>"
      ],
      "text/plain": [
       "  STAT_CODE                       STAT_NAME ITEM_CODE1 ITEM_NAME1 ITEM_CODE2  \\\n",
       "0   121Y006  1.3.3.2.1. 예금은행 대출금리(신규취급액 기준)   BECBLA01    대출평균 1)       None   \n",
       "1   121Y006  1.3.3.2.1. 예금은행 대출금리(신규취급액 기준)   BECBLA04  공공및기타부문대출       None   \n",
       "2   121Y006  1.3.3.2.1. 예금은행 대출금리(신규취급액 기준)   BECBLB01    총대출  1)       None   \n",
       "3   121Y006  1.3.3.2.1. 예금은행 대출금리(신규취급액 기준)   BECBLA07   기업일반자금대출       None   \n",
       "4   121Y006  1.3.3.2.1. 예금은행 대출금리(신규취급액 기준)   BECBLA05     상업어음할인       None   \n",
       "\n",
       "  ITEM_NAME2 ITEM_CODE3 ITEM_NAME3 ITEM_CODE4 ITEM_NAME4 UNIT_NAME    TIME  \\\n",
       "0       None       None       None       None       None        연%  202201   \n",
       "1       None       None       None       None       None      연리%   202201   \n",
       "2       None       None       None       None       None      연리%   202201   \n",
       "3       None       None       None       None       None      연리%   202201   \n",
       "4       None       None       None       None       None      연리%   202201   \n",
       "\n",
       "  DATA_VALUE  \n",
       "0       3.45  \n",
       "1        2.6  \n",
       "2       3.12  \n",
       "3        3.3  \n",
       "4       4.42  "
      ]
     },
     "execution_count": 42,
     "metadata": {},
     "output_type": "execute_result"
    }
   ],
   "source": [
    "interest_df.head()"
   ]
  },
  {
   "cell_type": "code",
   "execution_count": 43,
   "id": "bea7a612-948b-4246-8eca-43b0ce545078",
   "metadata": {},
   "outputs": [],
   "source": [
    "interest_df['date_id'] = pd.to_datetime(interest_df['TIME'] + '01')\n",
    "interest_df['DATA_VALUE'] = interest_df['DATA_VALUE'].astype(float)"
   ]
  },
  {
   "cell_type": "code",
   "execution_count": 44,
   "id": "72b405c6-d50a-4b57-b9b8-afb5d0d245b8",
   "metadata": {},
   "outputs": [
    {
     "data": {
      "text/plain": [
       "<AxesSubplot:xlabel='date_id'>"
      ]
     },
     "execution_count": 44,
     "metadata": {},
     "output_type": "execute_result"
    },
    {
     "data": {
      "image/png": "[encoded data removed]",
      "text/plain": [
       "<Figure size 1800x1152 with 1 Axes>"
      ]
     },
     "metadata": {
      "needs_background": "light"
     },
     "output_type": "display_data"
    }
   ],
   "source": [
    "interest_df[interest_df['ITEM_NAME1'] == '대출평균 1)'].set_index('date_id')['DATA_VALUE'].plot()"
   ]
  },
  {
   "cell_type": "code",
   "execution_count": null,
   "id": "db7a1c61-5c30-4ed0-8ef8-ce95497698c8",
   "metadata": {},
   "outputs": [],
   "source": []
  },
  {
   "cell_type": "code",
   "execution_count": null,
   "id": "26b7dc0a-ec7f-4a15-bb53-2d22b082e921",
   "metadata": {},
   "outputs": [],
   "source": []
  }
 ],
 "metadata": {
  "kernelspec": {
   "display_name": "Python 3 (ipykernel)",
   "language": "python",
   "name": "python3"
  },
  "language_info": {
   "codemirror_mode": {
    "name": "ipython",
    "version": 3
   },
   "file_extension": ".py",
   "mimetype": "text/x-python",
   "name": "python",
   "nbconvert_exporter": "python",
   "pygments_lexer": "ipython3",
   "version": "3.10.2"
  }
 },
 "nbformat": 4,
 "nbformat_minor": 5
}
